{
  "nbformat": 4,
  "nbformat_minor": 0,
  "metadata": {
    "colab": {
      "name": "Loan_Analysis_12May",
      "provenance": []
    },
    "kernelspec": {
      "name": "python3",
      "display_name": "Python 3"
    },
    "language_info": {
      "name": "python"
    }
  },
  "cells": [
    {
      "cell_type": "code",
      "execution_count": 139,
      "metadata": {
        "id": "y9Vw1sU-vRfe"
      },
      "outputs": [],
      "source": [
        "#Load the libraryss\n",
        "import pandas as pd #To work with dataset\n",
        "import numpy as np #Math library\n",
        "import seaborn as sns #Graph library that use matplot in background\n",
        "import matplotlib.pyplot as plt #to plot some parameters in seaborn\n",
        "import matplotlib as mlp"
      ]
    },
    {
      "cell_type": "code",
      "source": [
        "sns.__version__"
      ],
      "metadata": {
        "colab": {
          "base_uri": "https://localhost:8080/",
          "height": 36
        },
        "id": "X7QUS7F_Qxot",
        "outputId": "2242a571-459e-4b56-f1dc-d25a6541fac2"
      },
      "execution_count": 134,
      "outputs": [
        {
          "output_type": "execute_result",
          "data": {
            "text/plain": [
              "'0.11.2'"
            ],
            "application/vnd.google.colaboratory.intrinsic+json": {
              "type": "string"
            }
          },
          "metadata": {},
          "execution_count": 134
        }
      ]
    },
    {
      "cell_type": "code",
      "source": [
        "np.__version__"
      ],
      "metadata": {
        "colab": {
          "base_uri": "https://localhost:8080/"
        },
        "id": "zx454toLQzu-",
        "outputId": "7f26b87c-1388-47e9-cb81-732da482554a"
      },
      "execution_count": 137,
      "outputs": [
        {
          "output_type": "stream",
          "name": "stdout",
          "text": [
            "1.21.6\n"
          ]
        }
      ]
    },
    {
      "cell_type": "code",
      "source": [
        "pd.__version__"
      ],
      "metadata": {
        "colab": {
          "base_uri": "https://localhost:8080/",
          "height": 36
        },
        "id": "plU4IPiYRLoS",
        "outputId": "092f026a-d957-44b9-f901-c64baf4b1b56"
      },
      "execution_count": 138,
      "outputs": [
        {
          "output_type": "execute_result",
          "data": {
            "text/plain": [
              "'1.3.5'"
            ],
            "application/vnd.google.colaboratory.intrinsic+json": {
              "type": "string"
            }
          },
          "metadata": {},
          "execution_count": 138
        }
      ]
    },
    {
      "cell_type": "code",
      "source": [
        "mlp.__version__"
      ],
      "metadata": {
        "colab": {
          "base_uri": "https://localhost:8080/",
          "height": 36
        },
        "id": "SK6KPUNVRcMy",
        "outputId": "3eb0d961-d29f-401c-d762-6bdbc36c6f2b"
      },
      "execution_count": 140,
      "outputs": [
        {
          "output_type": "execute_result",
          "data": {
            "text/plain": [
              "'3.2.2'"
            ],
            "application/vnd.google.colaboratory.intrinsic+json": {
              "type": "string"
            }
          },
          "metadata": {},
          "execution_count": 140
        }
      ]
    },
    {
      "cell_type": "code",
      "source": [
        "from google.colab import drive\n",
        "drive.mount('/content/drive')\n"
      ],
      "metadata": {
        "colab": {
          "base_uri": "https://localhost:8080/"
        },
        "id": "pJBWJo56vaAp",
        "outputId": "591c05c7-5f5a-44db-9154-b849165545b8"
      },
      "execution_count": 78,
      "outputs": [
        {
          "output_type": "stream",
          "name": "stdout",
          "text": [
            "Drive already mounted at /content/drive; to attempt to forcibly remount, call drive.mount(\"/content/drive\", force_remount=True).\n"
          ]
        }
      ]
    },
    {
      "cell_type": "code",
      "source": [
        "# load dataset\n",
        "loan0 = pd.read_csv(\"/content/drive/MyDrive/1upgradsheets/loan2.csv\")"
      ],
      "metadata": {
        "id": "TttRteAEvj2z"
      },
      "execution_count": 79,
      "outputs": []
    },
    {
      "cell_type": "code",
      "source": [
        "\n",
        "loan0.info()"
      ],
      "metadata": {
        "colab": {
          "base_uri": "https://localhost:8080/"
        },
        "id": "Ns4jXRi0vpjx",
        "outputId": "bc67b888-acde-49ef-dc5f-934593d22ce2"
      },
      "execution_count": 80,
      "outputs": [
        {
          "output_type": "stream",
          "name": "stdout",
          "text": [
            "<class 'pandas.core.frame.DataFrame'>\n",
            "RangeIndex: 15854 entries, 0 to 15853\n",
            "Columns: 111 entries, id to total_il_high_credit_limit\n",
            "dtypes: float64(71), int64(15), object(25)\n",
            "memory usage: 13.4+ MB\n"
          ]
        }
      ]
    },
    {
      "cell_type": "code",
      "source": [
        "loan0.shape"
      ],
      "metadata": {
        "colab": {
          "base_uri": "https://localhost:8080/"
        },
        "id": "EGVMDoOqvsoJ",
        "outputId": "4dc627a7-d190-4076-a591-8bd6ebac90b9"
      },
      "execution_count": 81,
      "outputs": [
        {
          "output_type": "execute_result",
          "data": {
            "text/plain": [
              "(15854, 111)"
            ]
          },
          "metadata": {},
          "execution_count": 81
        }
      ]
    },
    {
      "cell_type": "markdown",
      "source": [
        "\n",
        "### **Data Cleaning**\n",
        " "
      ],
      "metadata": {
        "id": "YxRxeuYe4OqD"
      }
    },
    {
      "cell_type": "code",
      "source": [
        "# Deleting customer behavouor data\n",
        "\n",
        "loan0 = loan0.drop(columns =['delinq_2yrs','earliest_cr_line','inq_last_6mths','open_acc','pub_rec','revol_bal','revol_util','total_acc','out_prncp',\n",
        "                             'out_prncp_inv','total_pymnt','total_pymnt_inv','total_rec_prncp','total_rec_int','total_rec_late_fee','recoveries',\n",
        "                             'collection_recovery_fee','last_pymnt_d','last_pymnt_amnt','last_credit_pull_d','application_type'])"
      ],
      "metadata": {
        "id": "7Ur9vI-wxPoq"
      },
      "execution_count": 82,
      "outputs": []
    },
    {
      "cell_type": "code",
      "source": [
        "# Deleting unwanted data\n",
        "loan0 = loan0.drop(columns=['id','member_id','emp_title','url','zip_code','addr_state','title','issue_d','initial_list_status','policy_code','pymnt_plan','tax_liens'])"
      ],
      "metadata": {
        "id": "DtAUxQT7xele"
      },
      "execution_count": 83,
      "outputs": []
    },
    {
      "cell_type": "code",
      "source": [
        "# Drop Columns where all values are NA.\n",
        "\n",
        "loan0.dropna(how='all',axis=1, inplace=True)"
      ],
      "metadata": {
        "id": "TF1TgY8wyRuD"
      },
      "execution_count": 84,
      "outputs": []
    },
    {
      "cell_type": "code",
      "source": [
        "loan0.shape"
      ],
      "metadata": {
        "colab": {
          "base_uri": "https://localhost:8080/"
        },
        "id": "AjYGa1U8ClcG",
        "outputId": "22bb7c93-d7c3-47d7-8057-0583b5fea74a"
      },
      "execution_count": 85,
      "outputs": [
        {
          "output_type": "execute_result",
          "data": {
            "text/plain": [
              "(15854, 25)"
            ]
          },
          "metadata": {},
          "execution_count": 85
        }
      ]
    },
    {
      "cell_type": "code",
      "source": [
        "# Drop Columns where all values are 0.\n",
        "loan0 = loan0.loc[:, (loan0 != 0).any(axis=0)]"
      ],
      "metadata": {
        "id": "j1NTAq50-Jwp"
      },
      "execution_count": 86,
      "outputs": []
    },
    {
      "cell_type": "code",
      "source": [
        "# Delete data rows with Current Loan Status\n",
        "loan0 = loan0[~loan0['loan_status'].isin(['Current'])]"
      ],
      "metadata": {
        "id": "ewfLFbV1_BeE"
      },
      "execution_count": 87,
      "outputs": []
    },
    {
      "cell_type": "code",
      "source": [
        "# Check if any values are null\n",
        "\n",
        "loan0.isnull().sum()"
      ],
      "metadata": {
        "colab": {
          "base_uri": "https://localhost:8080/"
        },
        "id": "i5dY7eHPz9Nb",
        "outputId": "2f94670d-0760-4011-d26a-ca3ae7b1bc6d"
      },
      "execution_count": 88,
      "outputs": [
        {
          "output_type": "execute_result",
          "data": {
            "text/plain": [
              "loan_amnt                             0\n",
              "funded_amnt                           0\n",
              "funded_amnt_inv                       0\n",
              "term                                  0\n",
              "int_rate                              0\n",
              "installment                           0\n",
              "grade                                 0\n",
              "sub_grade                             0\n",
              "emp_length                          514\n",
              "home_ownership                        0\n",
              "annual_inc                            0\n",
              "verification_status                   0\n",
              "loan_status                           0\n",
              "desc                               6129\n",
              "purpose                               0\n",
              "dti                                   0\n",
              "mths_since_last_delinq             9763\n",
              "mths_since_last_record            13947\n",
              "next_pymnt_d                      14720\n",
              "mths_since_recent_revol_delinq    14719\n",
              "pub_rec_bankruptcies                  1\n",
              "dtype: int64"
            ]
          },
          "metadata": {},
          "execution_count": 88
        }
      ]
    },
    {
      "cell_type": "code",
      "source": [
        "# Delete Columns with high Missing Values\n",
        "loan0 = loan0.drop(columns =['desc','mths_since_last_delinq','mths_since_last_record','next_pymnt_d','mths_since_recent_revol_delinq'])"
      ],
      "metadata": {
        "id": "XZAbO4cr-kWh"
      },
      "execution_count": 89,
      "outputs": []
    },
    {
      "cell_type": "markdown",
      "source": [
        "\n",
        "### **Data Checking**\n",
        "\n"
      ],
      "metadata": {
        "id": "Ljj-xYcV4qKH"
      }
    },
    {
      "cell_type": "code",
      "source": [
        "# Checking Missing Values\n",
        "\n",
        "loan0['pub_rec_bankruptcies'].value_counts()"
      ],
      "metadata": {
        "colab": {
          "base_uri": "https://localhost:8080/"
        },
        "id": "4ziz7Y8jAH8O",
        "outputId": "37395225-e913-4755-d4b3-dc4f583bff1d"
      },
      "execution_count": 90,
      "outputs": [
        {
          "output_type": "execute_result",
          "data": {
            "text/plain": [
              "0.0    14070\n",
              "1.0      648\n",
              "2.0        1\n",
              "Name: pub_rec_bankruptcies, dtype: int64"
            ]
          },
          "metadata": {},
          "execution_count": 90
        }
      ]
    },
    {
      "cell_type": "code",
      "source": [
        "# Filling zero in missing places\n",
        "loan0['pub_rec_bankruptcies'] = loan0['pub_rec_bankruptcies'].fillna(0)"
      ],
      "metadata": {
        "id": "7Z49ZzkRAufp"
      },
      "execution_count": 91,
      "outputs": []
    },
    {
      "cell_type": "code",
      "source": [
        "loan0['emp_length'].value_counts()"
      ],
      "metadata": {
        "colab": {
          "base_uri": "https://localhost:8080/"
        },
        "id": "nPKdwclMA-Uv",
        "outputId": "72911843-f8f8-4ee0-ebf4-6f5c09f2fe76"
      },
      "execution_count": 92,
      "outputs": [
        {
          "output_type": "execute_result",
          "data": {
            "text/plain": [
              "10+ years    3644\n",
              "2 years      1445\n",
              "3 years      1401\n",
              "< 1 year     1364\n",
              "5 years      1293\n",
              "4 years      1256\n",
              "1 year       1073\n",
              "6 years       988\n",
              "7 years       731\n",
              "8 years       557\n",
              "9 years       454\n",
              "Name: emp_length, dtype: int64"
            ]
          },
          "metadata": {},
          "execution_count": 92
        }
      ]
    },
    {
      "cell_type": "code",
      "source": [
        "loan0.emp_length.isnull().sum()"
      ],
      "metadata": {
        "colab": {
          "base_uri": "https://localhost:8080/"
        },
        "id": "N-jwpxUCEArf",
        "outputId": "356c61b4-af91-47db-8d78-f04a36626fa5"
      },
      "execution_count": 93,
      "outputs": [
        {
          "output_type": "execute_result",
          "data": {
            "text/plain": [
              "514"
            ]
          },
          "metadata": {},
          "execution_count": 93
        }
      ]
    },
    {
      "cell_type": "code",
      "source": [
        "# Delete row with missing values\n",
        "loan0 = loan0[~loan0['emp_length'].isnull()]"
      ],
      "metadata": {
        "id": "Vj-nBstaFBZQ"
      },
      "execution_count": 94,
      "outputs": []
    },
    {
      "cell_type": "code",
      "source": [
        "# There are no null values\n",
        "\n",
        "loan0.isnull().sum()"
      ],
      "metadata": {
        "colab": {
          "base_uri": "https://localhost:8080/"
        },
        "id": "Jqg6zCxBFPlT",
        "outputId": "3812e290-87dd-407b-f653-fa6764c6be3c"
      },
      "execution_count": 95,
      "outputs": [
        {
          "output_type": "execute_result",
          "data": {
            "text/plain": [
              "loan_amnt               0\n",
              "funded_amnt             0\n",
              "funded_amnt_inv         0\n",
              "term                    0\n",
              "int_rate                0\n",
              "installment             0\n",
              "grade                   0\n",
              "sub_grade               0\n",
              "emp_length              0\n",
              "home_ownership          0\n",
              "annual_inc              0\n",
              "verification_status     0\n",
              "loan_status             0\n",
              "purpose                 0\n",
              "dti                     0\n",
              "pub_rec_bankruptcies    0\n",
              "dtype: int64"
            ]
          },
          "metadata": {},
          "execution_count": 95
        }
      ]
    },
    {
      "cell_type": "markdown",
      "source": [
        "**Sanity Checks**"
      ],
      "metadata": {
        "id": "koLvLJ937UiP"
      }
    },
    {
      "cell_type": "code",
      "source": [
        "# Compare if columns have similar values\n",
        "loan0['loan_amnt'].equals(loan0['funded_amnt'])"
      ],
      "metadata": {
        "colab": {
          "base_uri": "https://localhost:8080/"
        },
        "id": "P9dJ9rO4GXU-",
        "outputId": "6b249b03-13b9-413c-96d3-db7533aa4a87"
      },
      "execution_count": 96,
      "outputs": [
        {
          "output_type": "execute_result",
          "data": {
            "text/plain": [
              "False"
            ]
          },
          "metadata": {},
          "execution_count": 96
        }
      ]
    },
    {
      "cell_type": "code",
      "source": [
        "s1 = loan0['loan_amnt']\n",
        "s2 = loan0['funded_amnt']\n",
        "\n",
        "s1.compare(s2)"
      ],
      "metadata": {
        "colab": {
          "base_uri": "https://localhost:8080/",
          "height": 424
        },
        "id": "j1GgVd86Hjxq",
        "outputId": "a34c6c70-7bbf-429b-e023-84a91a729cdd"
      },
      "execution_count": 97,
      "outputs": [
        {
          "output_type": "execute_result",
          "data": {
            "text/plain": [
              "          self    other\n",
              "61     17500.0   8950.0\n",
              "66     12500.0   8925.0\n",
              "70     20975.0  13575.0\n",
              "77      7250.0   7200.0\n",
              "80     35000.0  22075.0\n",
              "...        ...      ...\n",
              "15724  28800.0  20325.0\n",
              "15725  25000.0  16550.0\n",
              "15735  25000.0  18325.0\n",
              "15781  25000.0  21200.0\n",
              "15853  19600.0  12825.0\n",
              "\n",
              "[487 rows x 2 columns]"
            ],
            "text/html": [
              "\n",
              "  <div id=\"df-756d0552-d0ee-4f87-8512-95d6e5f2c19c\">\n",
              "    <div class=\"colab-df-container\">\n",
              "      <div>\n",
              "<style scoped>\n",
              "    .dataframe tbody tr th:only-of-type {\n",
              "        vertical-align: middle;\n",
              "    }\n",
              "\n",
              "    .dataframe tbody tr th {\n",
              "        vertical-align: top;\n",
              "    }\n",
              "\n",
              "    .dataframe thead th {\n",
              "        text-align: right;\n",
              "    }\n",
              "</style>\n",
              "<table border=\"1\" class=\"dataframe\">\n",
              "  <thead>\n",
              "    <tr style=\"text-align: right;\">\n",
              "      <th></th>\n",
              "      <th>self</th>\n",
              "      <th>other</th>\n",
              "    </tr>\n",
              "  </thead>\n",
              "  <tbody>\n",
              "    <tr>\n",
              "      <th>61</th>\n",
              "      <td>17500.0</td>\n",
              "      <td>8950.0</td>\n",
              "    </tr>\n",
              "    <tr>\n",
              "      <th>66</th>\n",
              "      <td>12500.0</td>\n",
              "      <td>8925.0</td>\n",
              "    </tr>\n",
              "    <tr>\n",
              "      <th>70</th>\n",
              "      <td>20975.0</td>\n",
              "      <td>13575.0</td>\n",
              "    </tr>\n",
              "    <tr>\n",
              "      <th>77</th>\n",
              "      <td>7250.0</td>\n",
              "      <td>7200.0</td>\n",
              "    </tr>\n",
              "    <tr>\n",
              "      <th>80</th>\n",
              "      <td>35000.0</td>\n",
              "      <td>22075.0</td>\n",
              "    </tr>\n",
              "    <tr>\n",
              "      <th>...</th>\n",
              "      <td>...</td>\n",
              "      <td>...</td>\n",
              "    </tr>\n",
              "    <tr>\n",
              "      <th>15724</th>\n",
              "      <td>28800.0</td>\n",
              "      <td>20325.0</td>\n",
              "    </tr>\n",
              "    <tr>\n",
              "      <th>15725</th>\n",
              "      <td>25000.0</td>\n",
              "      <td>16550.0</td>\n",
              "    </tr>\n",
              "    <tr>\n",
              "      <th>15735</th>\n",
              "      <td>25000.0</td>\n",
              "      <td>18325.0</td>\n",
              "    </tr>\n",
              "    <tr>\n",
              "      <th>15781</th>\n",
              "      <td>25000.0</td>\n",
              "      <td>21200.0</td>\n",
              "    </tr>\n",
              "    <tr>\n",
              "      <th>15853</th>\n",
              "      <td>19600.0</td>\n",
              "      <td>12825.0</td>\n",
              "    </tr>\n",
              "  </tbody>\n",
              "</table>\n",
              "<p>487 rows × 2 columns</p>\n",
              "</div>\n",
              "      <button class=\"colab-df-convert\" onclick=\"convertToInteractive('df-756d0552-d0ee-4f87-8512-95d6e5f2c19c')\"\n",
              "              title=\"Convert this dataframe to an interactive table.\"\n",
              "              style=\"display:none;\">\n",
              "        \n",
              "  <svg xmlns=\"http://www.w3.org/2000/svg\" height=\"24px\"viewBox=\"0 0 24 24\"\n",
              "       width=\"24px\">\n",
              "    <path d=\"M0 0h24v24H0V0z\" fill=\"none\"/>\n",
              "    <path d=\"M18.56 5.44l.94 2.06.94-2.06 2.06-.94-2.06-.94-.94-2.06-.94 2.06-2.06.94zm-11 1L8.5 8.5l.94-2.06 2.06-.94-2.06-.94L8.5 2.5l-.94 2.06-2.06.94zm10 10l.94 2.06.94-2.06 2.06-.94-2.06-.94-.94-2.06-.94 2.06-2.06.94z\"/><path d=\"M17.41 7.96l-1.37-1.37c-.4-.4-.92-.59-1.43-.59-.52 0-1.04.2-1.43.59L10.3 9.45l-7.72 7.72c-.78.78-.78 2.05 0 2.83L4 21.41c.39.39.9.59 1.41.59.51 0 1.02-.2 1.41-.59l7.78-7.78 2.81-2.81c.8-.78.8-2.07 0-2.86zM5.41 20L4 18.59l7.72-7.72 1.47 1.35L5.41 20z\"/>\n",
              "  </svg>\n",
              "      </button>\n",
              "      \n",
              "  <style>\n",
              "    .colab-df-container {\n",
              "      display:flex;\n",
              "      flex-wrap:wrap;\n",
              "      gap: 12px;\n",
              "    }\n",
              "\n",
              "    .colab-df-convert {\n",
              "      background-color: #E8F0FE;\n",
              "      border: none;\n",
              "      border-radius: 50%;\n",
              "      cursor: pointer;\n",
              "      display: none;\n",
              "      fill: #1967D2;\n",
              "      height: 32px;\n",
              "      padding: 0 0 0 0;\n",
              "      width: 32px;\n",
              "    }\n",
              "\n",
              "    .colab-df-convert:hover {\n",
              "      background-color: #E2EBFA;\n",
              "      box-shadow: 0px 1px 2px rgba(60, 64, 67, 0.3), 0px 1px 3px 1px rgba(60, 64, 67, 0.15);\n",
              "      fill: #174EA6;\n",
              "    }\n",
              "\n",
              "    [theme=dark] .colab-df-convert {\n",
              "      background-color: #3B4455;\n",
              "      fill: #D2E3FC;\n",
              "    }\n",
              "\n",
              "    [theme=dark] .colab-df-convert:hover {\n",
              "      background-color: #434B5C;\n",
              "      box-shadow: 0px 1px 3px 1px rgba(0, 0, 0, 0.15);\n",
              "      filter: drop-shadow(0px 1px 2px rgba(0, 0, 0, 0.3));\n",
              "      fill: #FFFFFF;\n",
              "    }\n",
              "  </style>\n",
              "\n",
              "      <script>\n",
              "        const buttonEl =\n",
              "          document.querySelector('#df-756d0552-d0ee-4f87-8512-95d6e5f2c19c button.colab-df-convert');\n",
              "        buttonEl.style.display =\n",
              "          google.colab.kernel.accessAllowed ? 'block' : 'none';\n",
              "\n",
              "        async function convertToInteractive(key) {\n",
              "          const element = document.querySelector('#df-756d0552-d0ee-4f87-8512-95d6e5f2c19c');\n",
              "          const dataTable =\n",
              "            await google.colab.kernel.invokeFunction('convertToInteractive',\n",
              "                                                     [key], {});\n",
              "          if (!dataTable) return;\n",
              "\n",
              "          const docLinkHtml = 'Like what you see? Visit the ' +\n",
              "            '<a target=\"_blank\" href=https://colab.research.google.com/notebooks/data_table.ipynb>data table notebook</a>'\n",
              "            + ' to learn more about interactive tables.';\n",
              "          element.innerHTML = '';\n",
              "          dataTable['output_type'] = 'display_data';\n",
              "          await google.colab.output.renderOutput(dataTable, element);\n",
              "          const docLink = document.createElement('div');\n",
              "          docLink.innerHTML = docLinkHtml;\n",
              "          element.appendChild(docLink);\n",
              "        }\n",
              "      </script>\n",
              "    </div>\n",
              "  </div>\n",
              "  "
            ]
          },
          "metadata": {},
          "execution_count": 97
        }
      ]
    },
    {
      "cell_type": "code",
      "source": [
        "loan0.info()"
      ],
      "metadata": {
        "colab": {
          "base_uri": "https://localhost:8080/"
        },
        "id": "DGUIuoPDINKw",
        "outputId": "f495d9a1-9108-47c3-a92c-687a8ff767bf"
      },
      "execution_count": 98,
      "outputs": [
        {
          "output_type": "stream",
          "name": "stdout",
          "text": [
            "<class 'pandas.core.frame.DataFrame'>\n",
            "Int64Index: 14206 entries, 0 to 15853\n",
            "Data columns (total 16 columns):\n",
            " #   Column                Non-Null Count  Dtype  \n",
            "---  ------                --------------  -----  \n",
            " 0   loan_amnt             14206 non-null  int64  \n",
            " 1   funded_amnt           14206 non-null  int64  \n",
            " 2   funded_amnt_inv       14206 non-null  float64\n",
            " 3   term                  14206 non-null  object \n",
            " 4   int_rate              14206 non-null  object \n",
            " 5   installment           14206 non-null  float64\n",
            " 6   grade                 14206 non-null  object \n",
            " 7   sub_grade             14206 non-null  object \n",
            " 8   emp_length            14206 non-null  object \n",
            " 9   home_ownership        14206 non-null  object \n",
            " 10  annual_inc            14206 non-null  float64\n",
            " 11  verification_status   14206 non-null  object \n",
            " 12  loan_status           14206 non-null  object \n",
            " 13  purpose               14206 non-null  object \n",
            " 14  dti                   14206 non-null  float64\n",
            " 15  pub_rec_bankruptcies  14206 non-null  float64\n",
            "dtypes: float64(5), int64(2), object(9)\n",
            "memory usage: 1.8+ MB\n"
          ]
        }
      ]
    },
    {
      "cell_type": "markdown",
      "source": [
        "Converting Data Type and correcting values\n",
        "\n"
      ],
      "metadata": {
        "id": "yaKBU2Q-5wYB"
      }
    },
    {
      "cell_type": "code",
      "source": [
        "# remove % symbol from Interest rate column\n",
        "loan0['int_rate'] = loan0.int_rate.apply(lambda x: 0 if x==\"0\" else float(x[:-1]))"
      ],
      "metadata": {
        "id": "gt2Y4-lVQQeK"
      },
      "execution_count": 99,
      "outputs": []
    },
    {
      "cell_type": "code",
      "source": [
        "# remove year wold from employee lenght column \n",
        "\n",
        "def emp_length_convert(loan0, column):\n",
        "    loan0[column] = loan0[column].str.replace('\\+ years', '')\n",
        "    loan0[column] = loan0[column].str.replace('< 1 year', str(0))\n",
        "    loan0[column] = loan0[column].str.replace(' years', '')\n",
        "    loan0[column] = loan0[column].str.replace(' year', '')\n",
        "    loan0[column] = pd.to_numeric(loan0[column])\n",
        "    loan0[column].fillna(value = 0, inplace = True)\n",
        "\n",
        "emp_length_convert(loan0,'emp_length')"
      ],
      "metadata": {
        "id": "19N4AxLmQdtd"
      },
      "execution_count": 100,
      "outputs": []
    },
    {
      "cell_type": "code",
      "source": [
        "loan0.info()"
      ],
      "metadata": {
        "colab": {
          "base_uri": "https://localhost:8080/"
        },
        "id": "CZvj3F4jUqaA",
        "outputId": "50261cc7-37bf-4a3e-82e5-56e0b803f90e"
      },
      "execution_count": 101,
      "outputs": [
        {
          "output_type": "stream",
          "name": "stdout",
          "text": [
            "<class 'pandas.core.frame.DataFrame'>\n",
            "Int64Index: 14206 entries, 0 to 15853\n",
            "Data columns (total 16 columns):\n",
            " #   Column                Non-Null Count  Dtype  \n",
            "---  ------                --------------  -----  \n",
            " 0   loan_amnt             14206 non-null  int64  \n",
            " 1   funded_amnt           14206 non-null  int64  \n",
            " 2   funded_amnt_inv       14206 non-null  float64\n",
            " 3   term                  14206 non-null  object \n",
            " 4   int_rate              14206 non-null  float64\n",
            " 5   installment           14206 non-null  float64\n",
            " 6   grade                 14206 non-null  object \n",
            " 7   sub_grade             14206 non-null  object \n",
            " 8   emp_length            14206 non-null  int64  \n",
            " 9   home_ownership        14206 non-null  object \n",
            " 10  annual_inc            14206 non-null  float64\n",
            " 11  verification_status   14206 non-null  object \n",
            " 12  loan_status           14206 non-null  object \n",
            " 13  purpose               14206 non-null  object \n",
            " 14  dti                   14206 non-null  float64\n",
            " 15  pub_rec_bankruptcies  14206 non-null  float64\n",
            "dtypes: float64(6), int64(3), object(7)\n",
            "memory usage: 1.8+ MB\n"
          ]
        }
      ]
    },
    {
      "cell_type": "markdown",
      "source": [
        "employee expirence converted to int\n"
      ],
      "metadata": {
        "id": "84i20LCQ8Guf"
      }
    },
    {
      "cell_type": "code",
      "source": [
        "loan0.emp_length.describe()"
      ],
      "metadata": {
        "colab": {
          "base_uri": "https://localhost:8080/"
        },
        "id": "CYao9Tv_UuTL",
        "outputId": "b483e2f0-bebc-4cc0-f5fa-323b916108bd"
      },
      "execution_count": 102,
      "outputs": [
        {
          "output_type": "execute_result",
          "data": {
            "text/plain": [
              "count    14206.000000\n",
              "mean         5.327467\n",
              "std          3.528918\n",
              "min          0.000000\n",
              "25%          2.000000\n",
              "50%          5.000000\n",
              "75%         10.000000\n",
              "max         10.000000\n",
              "Name: emp_length, dtype: float64"
            ]
          },
          "metadata": {},
          "execution_count": 102
        }
      ]
    },
    {
      "cell_type": "code",
      "source": [
        "# Remove months world from Term Column\n",
        "loan0['term'] = loan0.term.apply(lambda x: 0 if x==\"0\" else int(x[:-7]))\n",
        "\n"
      ],
      "metadata": {
        "id": "aKXnfuDUUwtj"
      },
      "execution_count": 103,
      "outputs": []
    },
    {
      "cell_type": "code",
      "source": [
        "loan0.info()"
      ],
      "metadata": {
        "colab": {
          "base_uri": "https://localhost:8080/"
        },
        "id": "CSdW8w9_WjXW",
        "outputId": "2087a169-9a7d-472a-e34c-17344405f11b"
      },
      "execution_count": 104,
      "outputs": [
        {
          "output_type": "stream",
          "name": "stdout",
          "text": [
            "<class 'pandas.core.frame.DataFrame'>\n",
            "Int64Index: 14206 entries, 0 to 15853\n",
            "Data columns (total 16 columns):\n",
            " #   Column                Non-Null Count  Dtype  \n",
            "---  ------                --------------  -----  \n",
            " 0   loan_amnt             14206 non-null  int64  \n",
            " 1   funded_amnt           14206 non-null  int64  \n",
            " 2   funded_amnt_inv       14206 non-null  float64\n",
            " 3   term                  14206 non-null  int64  \n",
            " 4   int_rate              14206 non-null  float64\n",
            " 5   installment           14206 non-null  float64\n",
            " 6   grade                 14206 non-null  object \n",
            " 7   sub_grade             14206 non-null  object \n",
            " 8   emp_length            14206 non-null  int64  \n",
            " 9   home_ownership        14206 non-null  object \n",
            " 10  annual_inc            14206 non-null  float64\n",
            " 11  verification_status   14206 non-null  object \n",
            " 12  loan_status           14206 non-null  object \n",
            " 13  purpose               14206 non-null  object \n",
            " 14  dti                   14206 non-null  float64\n",
            " 15  pub_rec_bankruptcies  14206 non-null  float64\n",
            "dtypes: float64(6), int64(4), object(6)\n",
            "memory usage: 1.8+ MB\n"
          ]
        }
      ]
    },
    {
      "cell_type": "markdown",
      "source": [
        "Term column is converted to int \n"
      ],
      "metadata": {
        "id": "AHrv8qMF8W8u"
      }
    },
    {
      "cell_type": "code",
      "source": [
        "loan0.term.value_counts()"
      ],
      "metadata": {
        "colab": {
          "base_uri": "https://localhost:8080/"
        },
        "id": "rd6dyZjIY9AC",
        "outputId": "cd71ff99-8619-4ada-8bfd-009811eb5a50"
      },
      "execution_count": 105,
      "outputs": [
        {
          "output_type": "execute_result",
          "data": {
            "text/plain": [
              "36    10085\n",
              "60     4121\n",
              "Name: term, dtype: int64"
            ]
          },
          "metadata": {},
          "execution_count": 105
        }
      ]
    },
    {
      "cell_type": "code",
      "source": [
        "loan0.int_rate.describe()"
      ],
      "metadata": {
        "colab": {
          "base_uri": "https://localhost:8080/"
        },
        "id": "7EnjF1HYZw9k",
        "outputId": "fb666784-c19a-400a-b77c-67d8a0b9cced"
      },
      "execution_count": 106,
      "outputs": [
        {
          "output_type": "execute_result",
          "data": {
            "text/plain": [
              "count    14206.000000\n",
              "mean        12.257268\n",
              "std          4.202552\n",
              "min          5.420000\n",
              "25%          8.490000\n",
              "50%         11.990000\n",
              "75%         15.270000\n",
              "max         24.400000\n",
              "Name: int_rate, dtype: float64"
            ]
          },
          "metadata": {},
          "execution_count": 106
        }
      ]
    },
    {
      "cell_type": "code",
      "source": [
        "loan0.emp_length.describe()"
      ],
      "metadata": {
        "colab": {
          "base_uri": "https://localhost:8080/"
        },
        "id": "V8Eoc0jqZ4ek",
        "outputId": "d2cb0d35-4d05-4be9-9d95-d3731e0eea1e"
      },
      "execution_count": 107,
      "outputs": [
        {
          "output_type": "execute_result",
          "data": {
            "text/plain": [
              "count    14206.000000\n",
              "mean         5.327467\n",
              "std          3.528918\n",
              "min          0.000000\n",
              "25%          2.000000\n",
              "50%          5.000000\n",
              "75%         10.000000\n",
              "max         10.000000\n",
              "Name: emp_length, dtype: float64"
            ]
          },
          "metadata": {},
          "execution_count": 107
        }
      ]
    },
    {
      "cell_type": "code",
      "source": [
        "# Checking if loan amount is higher than funded amount\n",
        "\n",
        "loan0[loan0.loan_amnt > loan0.funded_amnt]"
      ],
      "metadata": {
        "colab": {
          "base_uri": "https://localhost:8080/",
          "height": 488
        },
        "id": "uiD4wj9JaV0S",
        "outputId": "a416a29a-3652-4174-f9e4-0191192d4389"
      },
      "execution_count": 108,
      "outputs": [
        {
          "output_type": "execute_result",
          "data": {
            "text/plain": [
              "       loan_amnt  funded_amnt  funded_amnt_inv  term  int_rate  installment  \\\n",
              "61         17500         8950           8925.0    60     17.27       223.74   \n",
              "66         12500         8925           8925.0    60     17.27       223.11   \n",
              "70         20975        13575          13550.0    60     17.58       341.63   \n",
              "77          7250         7200           7175.0    60     21.67       197.51   \n",
              "80         35000        22075          22050.0    60     17.27       551.84   \n",
              "...          ...          ...              ...   ...       ...          ...   \n",
              "15724      28800        20325          20325.0    60     19.69       534.99   \n",
              "15725      25000        16550          16525.0    60     19.29       431.97   \n",
              "15735      25000        18325          18325.0    60     18.79       473.25   \n",
              "15781      25000        21200          21125.0    60     11.99       471.48   \n",
              "15853      19600        12825          12825.0    60     18.79       331.21   \n",
              "\n",
              "      grade sub_grade  emp_length home_ownership  annual_inc  \\\n",
              "61        D        D3           6           RENT     40000.0   \n",
              "66        D        D3           5           RENT     30000.0   \n",
              "70        D        D4           5       MORTGAGE     44000.0   \n",
              "77        F        F3           0           RENT     75000.0   \n",
              "80        D        D3           3       MORTGAGE    150000.0   \n",
              "...     ...       ...         ...            ...         ...   \n",
              "15724     E        E5          10       MORTGAGE     92000.0   \n",
              "15725     E        E4          10           RENT    105000.0   \n",
              "15735     E        E3           3       MORTGAGE     85000.0   \n",
              "15781     B        B5           1            OWN    144240.0   \n",
              "15853     E        E3           4       MORTGAGE     85000.0   \n",
              "\n",
              "      verification_status  loan_status             purpose    dti  \\\n",
              "61               Verified   Fully Paid      small_business  19.47   \n",
              "66        Source Verified  Charged Off  debt_consolidation  13.16   \n",
              "70               Verified   Fully Paid         credit_card  18.79   \n",
              "77               Verified   Fully Paid  debt_consolidation  24.82   \n",
              "80               Verified   Fully Paid    home_improvement   7.51   \n",
              "...                   ...          ...                 ...    ...   \n",
              "15724     Source Verified  Charged Off  debt_consolidation  20.61   \n",
              "15725            Verified   Fully Paid    home_improvement   1.17   \n",
              "15735            Verified   Fully Paid      small_business  12.56   \n",
              "15781            Verified  Charged Off               other  15.77   \n",
              "15853     Source Verified   Fully Paid  debt_consolidation  21.47   \n",
              "\n",
              "       pub_rec_bankruptcies  \n",
              "61                      0.0  \n",
              "66                      1.0  \n",
              "70                      1.0  \n",
              "77                      1.0  \n",
              "80                      0.0  \n",
              "...                     ...  \n",
              "15724                   1.0  \n",
              "15725                   0.0  \n",
              "15735                   0.0  \n",
              "15781                   0.0  \n",
              "15853                   0.0  \n",
              "\n",
              "[487 rows x 16 columns]"
            ],
            "text/html": [
              "\n",
              "  <div id=\"df-4d1aab79-16b4-42ba-9cb2-5d991eef6358\">\n",
              "    <div class=\"colab-df-container\">\n",
              "      <div>\n",
              "<style scoped>\n",
              "    .dataframe tbody tr th:only-of-type {\n",
              "        vertical-align: middle;\n",
              "    }\n",
              "\n",
              "    .dataframe tbody tr th {\n",
              "        vertical-align: top;\n",
              "    }\n",
              "\n",
              "    .dataframe thead th {\n",
              "        text-align: right;\n",
              "    }\n",
              "</style>\n",
              "<table border=\"1\" class=\"dataframe\">\n",
              "  <thead>\n",
              "    <tr style=\"text-align: right;\">\n",
              "      <th></th>\n",
              "      <th>loan_amnt</th>\n",
              "      <th>funded_amnt</th>\n",
              "      <th>funded_amnt_inv</th>\n",
              "      <th>term</th>\n",
              "      <th>int_rate</th>\n",
              "      <th>installment</th>\n",
              "      <th>grade</th>\n",
              "      <th>sub_grade</th>\n",
              "      <th>emp_length</th>\n",
              "      <th>home_ownership</th>\n",
              "      <th>annual_inc</th>\n",
              "      <th>verification_status</th>\n",
              "      <th>loan_status</th>\n",
              "      <th>purpose</th>\n",
              "      <th>dti</th>\n",
              "      <th>pub_rec_bankruptcies</th>\n",
              "    </tr>\n",
              "  </thead>\n",
              "  <tbody>\n",
              "    <tr>\n",
              "      <th>61</th>\n",
              "      <td>17500</td>\n",
              "      <td>8950</td>\n",
              "      <td>8925.0</td>\n",
              "      <td>60</td>\n",
              "      <td>17.27</td>\n",
              "      <td>223.74</td>\n",
              "      <td>D</td>\n",
              "      <td>D3</td>\n",
              "      <td>6</td>\n",
              "      <td>RENT</td>\n",
              "      <td>40000.0</td>\n",
              "      <td>Verified</td>\n",
              "      <td>Fully Paid</td>\n",
              "      <td>small_business</td>\n",
              "      <td>19.47</td>\n",
              "      <td>0.0</td>\n",
              "    </tr>\n",
              "    <tr>\n",
              "      <th>66</th>\n",
              "      <td>12500</td>\n",
              "      <td>8925</td>\n",
              "      <td>8925.0</td>\n",
              "      <td>60</td>\n",
              "      <td>17.27</td>\n",
              "      <td>223.11</td>\n",
              "      <td>D</td>\n",
              "      <td>D3</td>\n",
              "      <td>5</td>\n",
              "      <td>RENT</td>\n",
              "      <td>30000.0</td>\n",
              "      <td>Source Verified</td>\n",
              "      <td>Charged Off</td>\n",
              "      <td>debt_consolidation</td>\n",
              "      <td>13.16</td>\n",
              "      <td>1.0</td>\n",
              "    </tr>\n",
              "    <tr>\n",
              "      <th>70</th>\n",
              "      <td>20975</td>\n",
              "      <td>13575</td>\n",
              "      <td>13550.0</td>\n",
              "      <td>60</td>\n",
              "      <td>17.58</td>\n",
              "      <td>341.63</td>\n",
              "      <td>D</td>\n",
              "      <td>D4</td>\n",
              "      <td>5</td>\n",
              "      <td>MORTGAGE</td>\n",
              "      <td>44000.0</td>\n",
              "      <td>Verified</td>\n",
              "      <td>Fully Paid</td>\n",
              "      <td>credit_card</td>\n",
              "      <td>18.79</td>\n",
              "      <td>1.0</td>\n",
              "    </tr>\n",
              "    <tr>\n",
              "      <th>77</th>\n",
              "      <td>7250</td>\n",
              "      <td>7200</td>\n",
              "      <td>7175.0</td>\n",
              "      <td>60</td>\n",
              "      <td>21.67</td>\n",
              "      <td>197.51</td>\n",
              "      <td>F</td>\n",
              "      <td>F3</td>\n",
              "      <td>0</td>\n",
              "      <td>RENT</td>\n",
              "      <td>75000.0</td>\n",
              "      <td>Verified</td>\n",
              "      <td>Fully Paid</td>\n",
              "      <td>debt_consolidation</td>\n",
              "      <td>24.82</td>\n",
              "      <td>1.0</td>\n",
              "    </tr>\n",
              "    <tr>\n",
              "      <th>80</th>\n",
              "      <td>35000</td>\n",
              "      <td>22075</td>\n",
              "      <td>22050.0</td>\n",
              "      <td>60</td>\n",
              "      <td>17.27</td>\n",
              "      <td>551.84</td>\n",
              "      <td>D</td>\n",
              "      <td>D3</td>\n",
              "      <td>3</td>\n",
              "      <td>MORTGAGE</td>\n",
              "      <td>150000.0</td>\n",
              "      <td>Verified</td>\n",
              "      <td>Fully Paid</td>\n",
              "      <td>home_improvement</td>\n",
              "      <td>7.51</td>\n",
              "      <td>0.0</td>\n",
              "    </tr>\n",
              "    <tr>\n",
              "      <th>...</th>\n",
              "      <td>...</td>\n",
              "      <td>...</td>\n",
              "      <td>...</td>\n",
              "      <td>...</td>\n",
              "      <td>...</td>\n",
              "      <td>...</td>\n",
              "      <td>...</td>\n",
              "      <td>...</td>\n",
              "      <td>...</td>\n",
              "      <td>...</td>\n",
              "      <td>...</td>\n",
              "      <td>...</td>\n",
              "      <td>...</td>\n",
              "      <td>...</td>\n",
              "      <td>...</td>\n",
              "      <td>...</td>\n",
              "    </tr>\n",
              "    <tr>\n",
              "      <th>15724</th>\n",
              "      <td>28800</td>\n",
              "      <td>20325</td>\n",
              "      <td>20325.0</td>\n",
              "      <td>60</td>\n",
              "      <td>19.69</td>\n",
              "      <td>534.99</td>\n",
              "      <td>E</td>\n",
              "      <td>E5</td>\n",
              "      <td>10</td>\n",
              "      <td>MORTGAGE</td>\n",
              "      <td>92000.0</td>\n",
              "      <td>Source Verified</td>\n",
              "      <td>Charged Off</td>\n",
              "      <td>debt_consolidation</td>\n",
              "      <td>20.61</td>\n",
              "      <td>1.0</td>\n",
              "    </tr>\n",
              "    <tr>\n",
              "      <th>15725</th>\n",
              "      <td>25000</td>\n",
              "      <td>16550</td>\n",
              "      <td>16525.0</td>\n",
              "      <td>60</td>\n",
              "      <td>19.29</td>\n",
              "      <td>431.97</td>\n",
              "      <td>E</td>\n",
              "      <td>E4</td>\n",
              "      <td>10</td>\n",
              "      <td>RENT</td>\n",
              "      <td>105000.0</td>\n",
              "      <td>Verified</td>\n",
              "      <td>Fully Paid</td>\n",
              "      <td>home_improvement</td>\n",
              "      <td>1.17</td>\n",
              "      <td>0.0</td>\n",
              "    </tr>\n",
              "    <tr>\n",
              "      <th>15735</th>\n",
              "      <td>25000</td>\n",
              "      <td>18325</td>\n",
              "      <td>18325.0</td>\n",
              "      <td>60</td>\n",
              "      <td>18.79</td>\n",
              "      <td>473.25</td>\n",
              "      <td>E</td>\n",
              "      <td>E3</td>\n",
              "      <td>3</td>\n",
              "      <td>MORTGAGE</td>\n",
              "      <td>85000.0</td>\n",
              "      <td>Verified</td>\n",
              "      <td>Fully Paid</td>\n",
              "      <td>small_business</td>\n",
              "      <td>12.56</td>\n",
              "      <td>0.0</td>\n",
              "    </tr>\n",
              "    <tr>\n",
              "      <th>15781</th>\n",
              "      <td>25000</td>\n",
              "      <td>21200</td>\n",
              "      <td>21125.0</td>\n",
              "      <td>60</td>\n",
              "      <td>11.99</td>\n",
              "      <td>471.48</td>\n",
              "      <td>B</td>\n",
              "      <td>B5</td>\n",
              "      <td>1</td>\n",
              "      <td>OWN</td>\n",
              "      <td>144240.0</td>\n",
              "      <td>Verified</td>\n",
              "      <td>Charged Off</td>\n",
              "      <td>other</td>\n",
              "      <td>15.77</td>\n",
              "      <td>0.0</td>\n",
              "    </tr>\n",
              "    <tr>\n",
              "      <th>15853</th>\n",
              "      <td>19600</td>\n",
              "      <td>12825</td>\n",
              "      <td>12825.0</td>\n",
              "      <td>60</td>\n",
              "      <td>18.79</td>\n",
              "      <td>331.21</td>\n",
              "      <td>E</td>\n",
              "      <td>E3</td>\n",
              "      <td>4</td>\n",
              "      <td>MORTGAGE</td>\n",
              "      <td>85000.0</td>\n",
              "      <td>Source Verified</td>\n",
              "      <td>Fully Paid</td>\n",
              "      <td>debt_consolidation</td>\n",
              "      <td>21.47</td>\n",
              "      <td>0.0</td>\n",
              "    </tr>\n",
              "  </tbody>\n",
              "</table>\n",
              "<p>487 rows × 16 columns</p>\n",
              "</div>\n",
              "      <button class=\"colab-df-convert\" onclick=\"convertToInteractive('df-4d1aab79-16b4-42ba-9cb2-5d991eef6358')\"\n",
              "              title=\"Convert this dataframe to an interactive table.\"\n",
              "              style=\"display:none;\">\n",
              "        \n",
              "  <svg xmlns=\"http://www.w3.org/2000/svg\" height=\"24px\"viewBox=\"0 0 24 24\"\n",
              "       width=\"24px\">\n",
              "    <path d=\"M0 0h24v24H0V0z\" fill=\"none\"/>\n",
              "    <path d=\"M18.56 5.44l.94 2.06.94-2.06 2.06-.94-2.06-.94-.94-2.06-.94 2.06-2.06.94zm-11 1L8.5 8.5l.94-2.06 2.06-.94-2.06-.94L8.5 2.5l-.94 2.06-2.06.94zm10 10l.94 2.06.94-2.06 2.06-.94-2.06-.94-.94-2.06-.94 2.06-2.06.94z\"/><path d=\"M17.41 7.96l-1.37-1.37c-.4-.4-.92-.59-1.43-.59-.52 0-1.04.2-1.43.59L10.3 9.45l-7.72 7.72c-.78.78-.78 2.05 0 2.83L4 21.41c.39.39.9.59 1.41.59.51 0 1.02-.2 1.41-.59l7.78-7.78 2.81-2.81c.8-.78.8-2.07 0-2.86zM5.41 20L4 18.59l7.72-7.72 1.47 1.35L5.41 20z\"/>\n",
              "  </svg>\n",
              "      </button>\n",
              "      \n",
              "  <style>\n",
              "    .colab-df-container {\n",
              "      display:flex;\n",
              "      flex-wrap:wrap;\n",
              "      gap: 12px;\n",
              "    }\n",
              "\n",
              "    .colab-df-convert {\n",
              "      background-color: #E8F0FE;\n",
              "      border: none;\n",
              "      border-radius: 50%;\n",
              "      cursor: pointer;\n",
              "      display: none;\n",
              "      fill: #1967D2;\n",
              "      height: 32px;\n",
              "      padding: 0 0 0 0;\n",
              "      width: 32px;\n",
              "    }\n",
              "\n",
              "    .colab-df-convert:hover {\n",
              "      background-color: #E2EBFA;\n",
              "      box-shadow: 0px 1px 2px rgba(60, 64, 67, 0.3), 0px 1px 3px 1px rgba(60, 64, 67, 0.15);\n",
              "      fill: #174EA6;\n",
              "    }\n",
              "\n",
              "    [theme=dark] .colab-df-convert {\n",
              "      background-color: #3B4455;\n",
              "      fill: #D2E3FC;\n",
              "    }\n",
              "\n",
              "    [theme=dark] .colab-df-convert:hover {\n",
              "      background-color: #434B5C;\n",
              "      box-shadow: 0px 1px 3px 1px rgba(0, 0, 0, 0.15);\n",
              "      filter: drop-shadow(0px 1px 2px rgba(0, 0, 0, 0.3));\n",
              "      fill: #FFFFFF;\n",
              "    }\n",
              "  </style>\n",
              "\n",
              "      <script>\n",
              "        const buttonEl =\n",
              "          document.querySelector('#df-4d1aab79-16b4-42ba-9cb2-5d991eef6358 button.colab-df-convert');\n",
              "        buttonEl.style.display =\n",
              "          google.colab.kernel.accessAllowed ? 'block' : 'none';\n",
              "\n",
              "        async function convertToInteractive(key) {\n",
              "          const element = document.querySelector('#df-4d1aab79-16b4-42ba-9cb2-5d991eef6358');\n",
              "          const dataTable =\n",
              "            await google.colab.kernel.invokeFunction('convertToInteractive',\n",
              "                                                     [key], {});\n",
              "          if (!dataTable) return;\n",
              "\n",
              "          const docLinkHtml = 'Like what you see? Visit the ' +\n",
              "            '<a target=\"_blank\" href=https://colab.research.google.com/notebooks/data_table.ipynb>data table notebook</a>'\n",
              "            + ' to learn more about interactive tables.';\n",
              "          element.innerHTML = '';\n",
              "          dataTable['output_type'] = 'display_data';\n",
              "          await google.colab.output.renderOutput(dataTable, element);\n",
              "          const docLink = document.createElement('div');\n",
              "          docLink.innerHTML = docLinkHtml;\n",
              "          element.appendChild(docLink);\n",
              "        }\n",
              "      </script>\n",
              "    </div>\n",
              "  </div>\n",
              "  "
            ]
          },
          "metadata": {},
          "execution_count": 108
        }
      ]
    },
    {
      "cell_type": "code",
      "source": [
        "# Checking if wrong data in funded investment amount , is it higher than funded amount. no data found\n",
        "loan0[loan0.funded_amnt_inv > loan0.funded_amnt]"
      ],
      "metadata": {
        "colab": {
          "base_uri": "https://localhost:8080/",
          "height": 49
        },
        "id": "LcMe15-kbZxa",
        "outputId": "e872338f-4ae0-4658-fb64-fb58d3fd99a0"
      },
      "execution_count": 109,
      "outputs": [
        {
          "output_type": "execute_result",
          "data": {
            "text/plain": [
              "Empty DataFrame\n",
              "Columns: [loan_amnt, funded_amnt, funded_amnt_inv, term, int_rate, installment, grade, sub_grade, emp_length, home_ownership, annual_inc, verification_status, loan_status, purpose, dti, pub_rec_bankruptcies]\n",
              "Index: []"
            ],
            "text/html": [
              "\n",
              "  <div id=\"df-582b150d-3081-4db3-b1d1-eafc63c3ccc8\">\n",
              "    <div class=\"colab-df-container\">\n",
              "      <div>\n",
              "<style scoped>\n",
              "    .dataframe tbody tr th:only-of-type {\n",
              "        vertical-align: middle;\n",
              "    }\n",
              "\n",
              "    .dataframe tbody tr th {\n",
              "        vertical-align: top;\n",
              "    }\n",
              "\n",
              "    .dataframe thead th {\n",
              "        text-align: right;\n",
              "    }\n",
              "</style>\n",
              "<table border=\"1\" class=\"dataframe\">\n",
              "  <thead>\n",
              "    <tr style=\"text-align: right;\">\n",
              "      <th></th>\n",
              "      <th>loan_amnt</th>\n",
              "      <th>funded_amnt</th>\n",
              "      <th>funded_amnt_inv</th>\n",
              "      <th>term</th>\n",
              "      <th>int_rate</th>\n",
              "      <th>installment</th>\n",
              "      <th>grade</th>\n",
              "      <th>sub_grade</th>\n",
              "      <th>emp_length</th>\n",
              "      <th>home_ownership</th>\n",
              "      <th>annual_inc</th>\n",
              "      <th>verification_status</th>\n",
              "      <th>loan_status</th>\n",
              "      <th>purpose</th>\n",
              "      <th>dti</th>\n",
              "      <th>pub_rec_bankruptcies</th>\n",
              "    </tr>\n",
              "  </thead>\n",
              "  <tbody>\n",
              "  </tbody>\n",
              "</table>\n",
              "</div>\n",
              "      <button class=\"colab-df-convert\" onclick=\"convertToInteractive('df-582b150d-3081-4db3-b1d1-eafc63c3ccc8')\"\n",
              "              title=\"Convert this dataframe to an interactive table.\"\n",
              "              style=\"display:none;\">\n",
              "        \n",
              "  <svg xmlns=\"http://www.w3.org/2000/svg\" height=\"24px\"viewBox=\"0 0 24 24\"\n",
              "       width=\"24px\">\n",
              "    <path d=\"M0 0h24v24H0V0z\" fill=\"none\"/>\n",
              "    <path d=\"M18.56 5.44l.94 2.06.94-2.06 2.06-.94-2.06-.94-.94-2.06-.94 2.06-2.06.94zm-11 1L8.5 8.5l.94-2.06 2.06-.94-2.06-.94L8.5 2.5l-.94 2.06-2.06.94zm10 10l.94 2.06.94-2.06 2.06-.94-2.06-.94-.94-2.06-.94 2.06-2.06.94z\"/><path d=\"M17.41 7.96l-1.37-1.37c-.4-.4-.92-.59-1.43-.59-.52 0-1.04.2-1.43.59L10.3 9.45l-7.72 7.72c-.78.78-.78 2.05 0 2.83L4 21.41c.39.39.9.59 1.41.59.51 0 1.02-.2 1.41-.59l7.78-7.78 2.81-2.81c.8-.78.8-2.07 0-2.86zM5.41 20L4 18.59l7.72-7.72 1.47 1.35L5.41 20z\"/>\n",
              "  </svg>\n",
              "      </button>\n",
              "      \n",
              "  <style>\n",
              "    .colab-df-container {\n",
              "      display:flex;\n",
              "      flex-wrap:wrap;\n",
              "      gap: 12px;\n",
              "    }\n",
              "\n",
              "    .colab-df-convert {\n",
              "      background-color: #E8F0FE;\n",
              "      border: none;\n",
              "      border-radius: 50%;\n",
              "      cursor: pointer;\n",
              "      display: none;\n",
              "      fill: #1967D2;\n",
              "      height: 32px;\n",
              "      padding: 0 0 0 0;\n",
              "      width: 32px;\n",
              "    }\n",
              "\n",
              "    .colab-df-convert:hover {\n",
              "      background-color: #E2EBFA;\n",
              "      box-shadow: 0px 1px 2px rgba(60, 64, 67, 0.3), 0px 1px 3px 1px rgba(60, 64, 67, 0.15);\n",
              "      fill: #174EA6;\n",
              "    }\n",
              "\n",
              "    [theme=dark] .colab-df-convert {\n",
              "      background-color: #3B4455;\n",
              "      fill: #D2E3FC;\n",
              "    }\n",
              "\n",
              "    [theme=dark] .colab-df-convert:hover {\n",
              "      background-color: #434B5C;\n",
              "      box-shadow: 0px 1px 3px 1px rgba(0, 0, 0, 0.15);\n",
              "      filter: drop-shadow(0px 1px 2px rgba(0, 0, 0, 0.3));\n",
              "      fill: #FFFFFF;\n",
              "    }\n",
              "  </style>\n",
              "\n",
              "      <script>\n",
              "        const buttonEl =\n",
              "          document.querySelector('#df-582b150d-3081-4db3-b1d1-eafc63c3ccc8 button.colab-df-convert');\n",
              "        buttonEl.style.display =\n",
              "          google.colab.kernel.accessAllowed ? 'block' : 'none';\n",
              "\n",
              "        async function convertToInteractive(key) {\n",
              "          const element = document.querySelector('#df-582b150d-3081-4db3-b1d1-eafc63c3ccc8');\n",
              "          const dataTable =\n",
              "            await google.colab.kernel.invokeFunction('convertToInteractive',\n",
              "                                                     [key], {});\n",
              "          if (!dataTable) return;\n",
              "\n",
              "          const docLinkHtml = 'Like what you see? Visit the ' +\n",
              "            '<a target=\"_blank\" href=https://colab.research.google.com/notebooks/data_table.ipynb>data table notebook</a>'\n",
              "            + ' to learn more about interactive tables.';\n",
              "          element.innerHTML = '';\n",
              "          dataTable['output_type'] = 'display_data';\n",
              "          await google.colab.output.renderOutput(dataTable, element);\n",
              "          const docLink = document.createElement('div');\n",
              "          docLink.innerHTML = docLinkHtml;\n",
              "          element.appendChild(docLink);\n",
              "        }\n",
              "      </script>\n",
              "    </div>\n",
              "  </div>\n",
              "  "
            ]
          },
          "metadata": {},
          "execution_count": 109
        }
      ]
    },
    {
      "cell_type": "markdown",
      "source": [
        "**Data Analysis**"
      ],
      "metadata": {
        "id": "nEIeBHLv8ziu"
      }
    },
    {
      "cell_type": "code",
      "source": [
        "plt.boxplot(loan0['annual_inc'])\n",
        "plt.show()\n"
      ],
      "metadata": {
        "colab": {
          "base_uri": "https://localhost:8080/",
          "height": 276
        },
        "id": "nJqwIx46jA1x",
        "outputId": "8e802bf1-9d4f-4a15-9a3a-f6d75345c62e"
      },
      "execution_count": 110,
      "outputs": [
        {
          "output_type": "display_data",
          "data": {
            "text/plain": [
              "<Figure size 432x288 with 1 Axes>"
            ],
            "image/png": "[encoded data removed]"
          },
          "metadata": {}
        }
      ]
    },
    {
      "cell_type": "markdown",
      "source": [
        "We can see that there are outliers\n"
      ],
      "metadata": {
        "id": "0BUPBkpp73Bq"
      }
    },
    {
      "cell_type": "code",
      "source": [
        "loan02 = loan0[loan0.annual_inc < 200000]"
      ],
      "metadata": {
        "id": "HKubdvJdpCyv"
      },
      "execution_count": 111,
      "outputs": []
    },
    {
      "cell_type": "markdown",
      "source": [
        "We will consider dataset with employee annual income below 200000"
      ],
      "metadata": {
        "id": "VZBs494c8nGt"
      }
    },
    {
      "cell_type": "code",
      "source": [
        "plt.boxplot(loan02['annual_inc'])\n",
        "plt.show()"
      ],
      "metadata": {
        "colab": {
          "base_uri": "https://localhost:8080/",
          "height": 265
        },
        "id": "x4zBDkuNpIoV",
        "outputId": "edd4fb34-5f56-4f7d-e352-b5bac9d4d5bd"
      },
      "execution_count": 112,
      "outputs": [
        {
          "output_type": "display_data",
          "data": {
            "text/plain": [
              "<Figure size 432x288 with 1 Axes>"
            ],
            "image/png": "[encoded data removed]"
          },
          "metadata": {}
        }
      ]
    },
    {
      "cell_type": "code",
      "source": [
        "import warnings\n",
        "warnings.filterwarnings(\"ignore\")"
      ],
      "metadata": {
        "id": "OoWtLtDmpOXH"
      },
      "execution_count": 113,
      "outputs": []
    },
    {
      "cell_type": "code",
      "source": [
        "(loan02['purpose'].value_counts()/len(loan02)).plot.bar()"
      ],
      "metadata": {
        "colab": {
          "base_uri": "https://localhost:8080/",
          "height": 372
        },
        "id": "dSRi_OVWyCHS",
        "outputId": "5b36d99d-1a47-468c-821e-32069d913036"
      },
      "execution_count": 114,
      "outputs": [
        {
          "output_type": "execute_result",
          "data": {
            "text/plain": [
              "<matplotlib.axes._subplots.AxesSubplot at 0x7eff8eda58d0>"
            ]
          },
          "metadata": {},
          "execution_count": 114
        },
        {
          "output_type": "display_data",
          "data": {
            "text/plain": [
              "<Figure size 432x288 with 1 Axes>"
            ],
            "image/png": "[encoded data removed]"
          },
          "metadata": {}
        }
      ]
    },
    {
      "cell_type": "code",
      "source": [
        "plt.figure(figsize=(12, 8))\n",
        "sns.heatmap(loan02.corr(),annot=True)\n",
        "plt.show()"
      ],
      "metadata": {
        "colab": {
          "base_uri": "https://localhost:8080/",
          "height": 586
        },
        "id": "m7uXc-_B7vga",
        "outputId": "7d107930-f530-42f3-e3e0-d2626375406e"
      },
      "execution_count": 115,
      "outputs": [
        {
          "output_type": "display_data",
          "data": {
            "text/plain": [
              "<Figure size 864x576 with 2 Axes>"
            ],
            "image/png": "[encoded data removed]"
          },
          "metadata": {}
        }
      ]
    },
    {
      "cell_type": "markdown",
      "source": [
        "we can see from above heat map that, relation between loan amount and installment "
      ],
      "metadata": {
        "id": "YQdO7Nzw9tJu"
      }
    },
    {
      "cell_type": "markdown",
      "source": [
        ""
      ],
      "metadata": {
        "id": "Qo6XHS8j98vq"
      }
    },
    {
      "cell_type": "code",
      "source": [
        "loan02['loan_status_bin'] = loan02['loan_status'].map({'Charged Off': 1, 'Fully Paid': 0})"
      ],
      "metadata": {
        "id": "QLypSotMNbtH"
      },
      "execution_count": 116,
      "outputs": []
    },
    {
      "cell_type": "markdown",
      "source": [
        "Adding loan status bin column where charged off = 1 and Fully Paid = 0"
      ],
      "metadata": {
        "id": "cNJJ11StD0eP"
      }
    },
    {
      "cell_type": "code",
      "source": [
        "fig, ax = plt.subplots(1, 3, figsize=(16,6))\n",
        "loan_amt = loan02[\"loan_amnt\"].values\n",
        "funded_amt = loan02[\"funded_amnt\"].values\n",
        "investor_amt = loan02[\"funded_amnt_inv\"].values\n",
        "sns.distplot(loan_amt, ax=ax[0])\n",
        "ax[0].set_title(\"Loan Applied\",)\n",
        "sns.distplot(funded_amt, ax=ax[1])\n",
        "ax[1].set_title(\"Amount Funded\")\n",
        "sns.distplot(investor_amt, ax=ax[2])\n",
        "ax[2].set_title(\"Total committed\")"
      ],
      "metadata": {
        "colab": {
          "base_uri": "https://localhost:8080/",
          "height": 407
        },
        "id": "51DxjybtO6xh",
        "outputId": "f9cf3401-6246-4b8f-bb5e-64b780ad8a3c"
      },
      "execution_count": 133,
      "outputs": [
        {
          "output_type": "execute_result",
          "data": {
            "text/plain": [
              "Text(0.5, 1.0, 'Total committed')"
            ]
          },
          "metadata": {},
          "execution_count": 133
        },
        {
          "output_type": "display_data",
          "data": {
            "text/plain": [
              "<Figure size 1152x432 with 3 Axes>"
            ],
            "image/png": "[encoded data removed]"
          },
          "metadata": {}
        }
      ]
    },
    {
      "cell_type": "code",
      "source": [
        "#the distribution of loan term is higher in 36 months\n",
        "\n",
        "(loan02['term'].value_counts()/len(loan02)).plot.bar(title='value counts')"
      ],
      "metadata": {
        "colab": {
          "base_uri": "https://localhost:8080/",
          "height": 301
        },
        "id": "Niz5_z73UdD8",
        "outputId": "744a166c-9d0e-42cc-bab6-75eca2fdd0da"
      },
      "execution_count": 118,
      "outputs": [
        {
          "output_type": "execute_result",
          "data": {
            "text/plain": [
              "<matplotlib.axes._subplots.AxesSubplot at 0x7eff8f23edd0>"
            ]
          },
          "metadata": {},
          "execution_count": 118
        },
        {
          "output_type": "display_data",
          "data": {
            "text/plain": [
              "<Figure size 432x288 with 1 Axes>"
            ],
            "image/png": "[encoded data removed]"
          },
          "metadata": {}
        }
      ]
    },
    {
      "cell_type": "code",
      "source": [
        "loan02.groupby('loan_status')['int_rate'].describe()"
      ],
      "metadata": {
        "colab": {
          "base_uri": "https://localhost:8080/",
          "height": 143
        },
        "id": "QqMuETC4ikCp",
        "outputId": "a276ee7f-52ed-4b04-c11e-aeea994ad9f9"
      },
      "execution_count": 119,
      "outputs": [
        {
          "output_type": "execute_result",
          "data": {
            "text/plain": [
              "               count       mean       std   min    25%    50%    75%    max\n",
              "loan_status                                                                \n",
              "Charged Off   2314.0  14.651292  4.083807  5.42  11.71  14.65  17.58  24.40\n",
              "Fully Paid   11618.0  11.740422  4.035540  5.42   7.90  11.49  14.27  24.11"
            ],
            "text/html": [
              "\n",
              "  <div id=\"df-cbb7a73e-a98a-498e-ab24-e0a168b228ff\">\n",
              "    <div class=\"colab-df-container\">\n",
              "      <div>\n",
              "<style scoped>\n",
              "    .dataframe tbody tr th:only-of-type {\n",
              "        vertical-align: middle;\n",
              "    }\n",
              "\n",
              "    .dataframe tbody tr th {\n",
              "        vertical-align: top;\n",
              "    }\n",
              "\n",
              "    .dataframe thead th {\n",
              "        text-align: right;\n",
              "    }\n",
              "</style>\n",
              "<table border=\"1\" class=\"dataframe\">\n",
              "  <thead>\n",
              "    <tr style=\"text-align: right;\">\n",
              "      <th></th>\n",
              "      <th>count</th>\n",
              "      <th>mean</th>\n",
              "      <th>std</th>\n",
              "      <th>min</th>\n",
              "      <th>25%</th>\n",
              "      <th>50%</th>\n",
              "      <th>75%</th>\n",
              "      <th>max</th>\n",
              "    </tr>\n",
              "    <tr>\n",
              "      <th>loan_status</th>\n",
              "      <th></th>\n",
              "      <th></th>\n",
              "      <th></th>\n",
              "      <th></th>\n",
              "      <th></th>\n",
              "      <th></th>\n",
              "      <th></th>\n",
              "      <th></th>\n",
              "    </tr>\n",
              "  </thead>\n",
              "  <tbody>\n",
              "    <tr>\n",
              "      <th>Charged Off</th>\n",
              "      <td>2314.0</td>\n",
              "      <td>14.651292</td>\n",
              "      <td>4.083807</td>\n",
              "      <td>5.42</td>\n",
              "      <td>11.71</td>\n",
              "      <td>14.65</td>\n",
              "      <td>17.58</td>\n",
              "      <td>24.40</td>\n",
              "    </tr>\n",
              "    <tr>\n",
              "      <th>Fully Paid</th>\n",
              "      <td>11618.0</td>\n",
              "      <td>11.740422</td>\n",
              "      <td>4.035540</td>\n",
              "      <td>5.42</td>\n",
              "      <td>7.90</td>\n",
              "      <td>11.49</td>\n",
              "      <td>14.27</td>\n",
              "      <td>24.11</td>\n",
              "    </tr>\n",
              "  </tbody>\n",
              "</table>\n",
              "</div>\n",
              "      <button class=\"colab-df-convert\" onclick=\"convertToInteractive('df-cbb7a73e-a98a-498e-ab24-e0a168b228ff')\"\n",
              "              title=\"Convert this dataframe to an interactive table.\"\n",
              "              style=\"display:none;\">\n",
              "        \n",
              "  <svg xmlns=\"http://www.w3.org/2000/svg\" height=\"24px\"viewBox=\"0 0 24 24\"\n",
              "       width=\"24px\">\n",
              "    <path d=\"M0 0h24v24H0V0z\" fill=\"none\"/>\n",
              "    <path d=\"M18.56 5.44l.94 2.06.94-2.06 2.06-.94-2.06-.94-.94-2.06-.94 2.06-2.06.94zm-11 1L8.5 8.5l.94-2.06 2.06-.94-2.06-.94L8.5 2.5l-.94 2.06-2.06.94zm10 10l.94 2.06.94-2.06 2.06-.94-2.06-.94-.94-2.06-.94 2.06-2.06.94z\"/><path d=\"M17.41 7.96l-1.37-1.37c-.4-.4-.92-.59-1.43-.59-.52 0-1.04.2-1.43.59L10.3 9.45l-7.72 7.72c-.78.78-.78 2.05 0 2.83L4 21.41c.39.39.9.59 1.41.59.51 0 1.02-.2 1.41-.59l7.78-7.78 2.81-2.81c.8-.78.8-2.07 0-2.86zM5.41 20L4 18.59l7.72-7.72 1.47 1.35L5.41 20z\"/>\n",
              "  </svg>\n",
              "      </button>\n",
              "      \n",
              "  <style>\n",
              "    .colab-df-container {\n",
              "      display:flex;\n",
              "      flex-wrap:wrap;\n",
              "      gap: 12px;\n",
              "    }\n",
              "\n",
              "    .colab-df-convert {\n",
              "      background-color: #E8F0FE;\n",
              "      border: none;\n",
              "      border-radius: 50%;\n",
              "      cursor: pointer;\n",
              "      display: none;\n",
              "      fill: #1967D2;\n",
              "      height: 32px;\n",
              "      padding: 0 0 0 0;\n",
              "      width: 32px;\n",
              "    }\n",
              "\n",
              "    .colab-df-convert:hover {\n",
              "      background-color: #E2EBFA;\n",
              "      box-shadow: 0px 1px 2px rgba(60, 64, 67, 0.3), 0px 1px 3px 1px rgba(60, 64, 67, 0.15);\n",
              "      fill: #174EA6;\n",
              "    }\n",
              "\n",
              "    [theme=dark] .colab-df-convert {\n",
              "      background-color: #3B4455;\n",
              "      fill: #D2E3FC;\n",
              "    }\n",
              "\n",
              "    [theme=dark] .colab-df-convert:hover {\n",
              "      background-color: #434B5C;\n",
              "      box-shadow: 0px 1px 3px 1px rgba(0, 0, 0, 0.15);\n",
              "      filter: drop-shadow(0px 1px 2px rgba(0, 0, 0, 0.3));\n",
              "      fill: #FFFFFF;\n",
              "    }\n",
              "  </style>\n",
              "\n",
              "      <script>\n",
              "        const buttonEl =\n",
              "          document.querySelector('#df-cbb7a73e-a98a-498e-ab24-e0a168b228ff button.colab-df-convert');\n",
              "        buttonEl.style.display =\n",
              "          google.colab.kernel.accessAllowed ? 'block' : 'none';\n",
              "\n",
              "        async function convertToInteractive(key) {\n",
              "          const element = document.querySelector('#df-cbb7a73e-a98a-498e-ab24-e0a168b228ff');\n",
              "          const dataTable =\n",
              "            await google.colab.kernel.invokeFunction('convertToInteractive',\n",
              "                                                     [key], {});\n",
              "          if (!dataTable) return;\n",
              "\n",
              "          const docLinkHtml = 'Like what you see? Visit the ' +\n",
              "            '<a target=\"_blank\" href=https://colab.research.google.com/notebooks/data_table.ipynb>data table notebook</a>'\n",
              "            + ' to learn more about interactive tables.';\n",
              "          element.innerHTML = '';\n",
              "          dataTable['output_type'] = 'display_data';\n",
              "          await google.colab.output.renderOutput(dataTable, element);\n",
              "          const docLink = document.createElement('div');\n",
              "          docLink.innerHTML = docLinkHtml;\n",
              "          element.appendChild(docLink);\n",
              "        }\n",
              "      </script>\n",
              "    </div>\n",
              "  </div>\n",
              "  "
            ]
          },
          "metadata": {},
          "execution_count": 119
        }
      ]
    },
    {
      "cell_type": "code",
      "source": [
        "sns.boxplot(data=loan02, x='int_rate',  y='loan_status');\n"
      ],
      "metadata": {
        "colab": {
          "base_uri": "https://localhost:8080/",
          "height": 280
        },
        "id": "Gbz5LXk8iq4P",
        "outputId": "6e127296-de7e-476d-e76e-594c7d092578"
      },
      "execution_count": 120,
      "outputs": [
        {
          "output_type": "display_data",
          "data": {
            "text/plain": [
              "<Figure size 432x288 with 1 Axes>"
            ],
            "image/png": "[encoded data removed]"
          },
          "metadata": {}
        }
      ]
    },
    {
      "cell_type": "markdown",
      "source": [
        "In Above Graph we can see relation between Charged off loan is more on high Interest Rate\n"
      ],
      "metadata": {
        "id": "fPozdZMp-wlw"
      }
    },
    {
      "cell_type": "code",
      "source": [
        "sns.boxplot(data=loan02, x='funded_amnt', y='loan_status');\n"
      ],
      "metadata": {
        "colab": {
          "base_uri": "https://localhost:8080/",
          "height": 280
        },
        "id": "vXd9l5shjAB6",
        "outputId": "0792cca3-87bf-4b31-a229-2cff0facf7bc"
      },
      "execution_count": 121,
      "outputs": [
        {
          "output_type": "display_data",
          "data": {
            "text/plain": [
              "<Figure size 432x288 with 1 Axes>"
            ],
            "image/png": "[encoded data removed]"
          },
          "metadata": {}
        }
      ]
    },
    {
      "cell_type": "markdown",
      "source": [
        "In above graph we can see that Charged off loan in on higher funded amount"
      ],
      "metadata": {
        "id": "G3bui5Bg_CZb"
      }
    },
    {
      "cell_type": "code",
      "source": [
        "sns.boxplot(data=loan02, x='loan_amnt', y='loan_status' );\n"
      ],
      "metadata": {
        "colab": {
          "base_uri": "https://localhost:8080/",
          "height": 280
        },
        "id": "WByj63yYjU-C",
        "outputId": "df139c61-b1ec-4918-8b28-5cf9c9d37b06"
      },
      "execution_count": 122,
      "outputs": [
        {
          "output_type": "display_data",
          "data": {
            "text/plain": [
              "<Figure size 432x288 with 1 Axes>"
            ],
            "image/png": "[encoded data removed]"
          },
          "metadata": {}
        }
      ]
    },
    {
      "cell_type": "markdown",
      "source": [
        "In above graph we can see that Charged off loan in on higher loan amount"
      ],
      "metadata": {
        "id": "E9zhp4HW_P1o"
      }
    },
    {
      "cell_type": "code",
      "source": [
        "sns.histplot(data=loan02, x='emp_length', y='loan_status' );\n"
      ],
      "metadata": {
        "colab": {
          "base_uri": "https://localhost:8080/",
          "height": 280
        },
        "id": "gE7bdnF3nEGy",
        "outputId": "e6ce18c5-442d-41f5-8373-739c6a740074"
      },
      "execution_count": 123,
      "outputs": [
        {
          "output_type": "display_data",
          "data": {
            "text/plain": [
              "<Figure size 432x288 with 1 Axes>"
            ],
            "image/png": "[encoded data removed]"
          },
          "metadata": {}
        }
      ]
    },
    {
      "cell_type": "code",
      "source": [
        "loan02.groupby('emp_length')['loan_status_bin'].mean().plot.bar()"
      ],
      "metadata": {
        "colab": {
          "base_uri": "https://localhost:8080/",
          "height": 300
        },
        "id": "W99Kv-MbpCos",
        "outputId": "0b0aa780-275e-42e9-a52f-1f48f577a93e"
      },
      "execution_count": 124,
      "outputs": [
        {
          "output_type": "execute_result",
          "data": {
            "text/plain": [
              "<matplotlib.axes._subplots.AxesSubplot at 0x7eff8eb779d0>"
            ]
          },
          "metadata": {},
          "execution_count": 124
        },
        {
          "output_type": "display_data",
          "data": {
            "text/plain": [
              "<Figure size 432x288 with 1 Axes>"
            ],
            "image/png": "[encoded data removed]"
          },
          "metadata": {}
        }
      ]
    },
    {
      "cell_type": "code",
      "source": [
        "loan02.groupby('loan_status_bin')['emp_length'].mean().plot.bar()"
      ],
      "metadata": {
        "colab": {
          "base_uri": "https://localhost:8080/",
          "height": 294
        },
        "id": "eTVS4lTPU9v3",
        "outputId": "3b813e8d-d39d-4b59-8588-ebf93cd0f6df"
      },
      "execution_count": 125,
      "outputs": [
        {
          "output_type": "execute_result",
          "data": {
            "text/plain": [
              "<matplotlib.axes._subplots.AxesSubplot at 0x7eff8ec72090>"
            ]
          },
          "metadata": {},
          "execution_count": 125
        },
        {
          "output_type": "display_data",
          "data": {
            "text/plain": [
              "<Figure size 432x288 with 1 Axes>"
            ],
            "image/png": "[encoded data removed]"
          },
          "metadata": {}
        }
      ]
    },
    {
      "cell_type": "markdown",
      "source": [
        "From above Three graphs we can see that, there is not much relation between   employee experience and loan status"
      ],
      "metadata": {
        "id": "yAr3ooc-_oRv"
      }
    },
    {
      "cell_type": "code",
      "source": [
        "sns.set_style(\"darkgrid\")\n",
        "sns.displot(data=loan02, x='annual_inc', hue='loan_status',aspect=3, kde=True);"
      ],
      "metadata": {
        "colab": {
          "base_uri": "https://localhost:8080/",
          "height": 369
        },
        "id": "rFGAS33nfJ_s",
        "outputId": "537e0e70-03a4-4fde-81ea-071db336b3e4"
      },
      "execution_count": 126,
      "outputs": [
        {
          "output_type": "display_data",
          "data": {
            "text/plain": [
              "<Figure size 1176.38x360 with 1 Axes>"
            ],
            "image/png": "[encoded data removed]"
          },
          "metadata": {}
        }
      ]
    },
    {
      "cell_type": "markdown",
      "source": [
        "Above graph shows distribution of annual income of employee whos loan was charged off\n"
      ],
      "metadata": {
        "id": "xUJbdsmD_6H9"
      }
    },
    {
      "cell_type": "code",
      "source": [
        "loan02.groupby('loan_status')['annual_inc'].describe()"
      ],
      "metadata": {
        "colab": {
          "base_uri": "https://localhost:8080/",
          "height": 143
        },
        "id": "WuCjG1adfqHE",
        "outputId": "e5a4462b-29d8-4c30-a4ac-f9933491ae4d"
      },
      "execution_count": 127,
      "outputs": [
        {
          "output_type": "execute_result",
          "data": {
            "text/plain": [
              "               count          mean           std     min      25%      50%  \\\n",
              "loan_status                                                                  \n",
              "Charged Off   2314.0  60812.888077  30508.714064  9600.0  39996.0  55000.0   \n",
              "Fully Paid   11618.0  67314.676527  33431.615049  6000.0  43000.0  60000.0   \n",
              "\n",
              "                 75%       max  \n",
              "loan_status                     \n",
              "Charged Off  75000.0  195800.0  \n",
              "Fully Paid   84000.0  199992.0  "
            ],
            "text/html": [
              "\n",
              "  <div id=\"df-5a57c7cc-0a81-4fc0-89d2-a0cd4913d277\">\n",
              "    <div class=\"colab-df-container\">\n",
              "      <div>\n",
              "<style scoped>\n",
              "    .dataframe tbody tr th:only-of-type {\n",
              "        vertical-align: middle;\n",
              "    }\n",
              "\n",
              "    .dataframe tbody tr th {\n",
              "        vertical-align: top;\n",
              "    }\n",
              "\n",
              "    .dataframe thead th {\n",
              "        text-align: right;\n",
              "    }\n",
              "</style>\n",
              "<table border=\"1\" class=\"dataframe\">\n",
              "  <thead>\n",
              "    <tr style=\"text-align: right;\">\n",
              "      <th></th>\n",
              "      <th>count</th>\n",
              "      <th>mean</th>\n",
              "      <th>std</th>\n",
              "      <th>min</th>\n",
              "      <th>25%</th>\n",
              "      <th>50%</th>\n",
              "      <th>75%</th>\n",
              "      <th>max</th>\n",
              "    </tr>\n",
              "    <tr>\n",
              "      <th>loan_status</th>\n",
              "      <th></th>\n",
              "      <th></th>\n",
              "      <th></th>\n",
              "      <th></th>\n",
              "      <th></th>\n",
              "      <th></th>\n",
              "      <th></th>\n",
              "      <th></th>\n",
              "    </tr>\n",
              "  </thead>\n",
              "  <tbody>\n",
              "    <tr>\n",
              "      <th>Charged Off</th>\n",
              "      <td>2314.0</td>\n",
              "      <td>60812.888077</td>\n",
              "      <td>30508.714064</td>\n",
              "      <td>9600.0</td>\n",
              "      <td>39996.0</td>\n",
              "      <td>55000.0</td>\n",
              "      <td>75000.0</td>\n",
              "      <td>195800.0</td>\n",
              "    </tr>\n",
              "    <tr>\n",
              "      <th>Fully Paid</th>\n",
              "      <td>11618.0</td>\n",
              "      <td>67314.676527</td>\n",
              "      <td>33431.615049</td>\n",
              "      <td>6000.0</td>\n",
              "      <td>43000.0</td>\n",
              "      <td>60000.0</td>\n",
              "      <td>84000.0</td>\n",
              "      <td>199992.0</td>\n",
              "    </tr>\n",
              "  </tbody>\n",
              "</table>\n",
              "</div>\n",
              "      <button class=\"colab-df-convert\" onclick=\"convertToInteractive('df-5a57c7cc-0a81-4fc0-89d2-a0cd4913d277')\"\n",
              "              title=\"Convert this dataframe to an interactive table.\"\n",
              "              style=\"display:none;\">\n",
              "        \n",
              "  <svg xmlns=\"http://www.w3.org/2000/svg\" height=\"24px\"viewBox=\"0 0 24 24\"\n",
              "       width=\"24px\">\n",
              "    <path d=\"M0 0h24v24H0V0z\" fill=\"none\"/>\n",
              "    <path d=\"M18.56 5.44l.94 2.06.94-2.06 2.06-.94-2.06-.94-.94-2.06-.94 2.06-2.06.94zm-11 1L8.5 8.5l.94-2.06 2.06-.94-2.06-.94L8.5 2.5l-.94 2.06-2.06.94zm10 10l.94 2.06.94-2.06 2.06-.94-2.06-.94-.94-2.06-.94 2.06-2.06.94z\"/><path d=\"M17.41 7.96l-1.37-1.37c-.4-.4-.92-.59-1.43-.59-.52 0-1.04.2-1.43.59L10.3 9.45l-7.72 7.72c-.78.78-.78 2.05 0 2.83L4 21.41c.39.39.9.59 1.41.59.51 0 1.02-.2 1.41-.59l7.78-7.78 2.81-2.81c.8-.78.8-2.07 0-2.86zM5.41 20L4 18.59l7.72-7.72 1.47 1.35L5.41 20z\"/>\n",
              "  </svg>\n",
              "      </button>\n",
              "      \n",
              "  <style>\n",
              "    .colab-df-container {\n",
              "      display:flex;\n",
              "      flex-wrap:wrap;\n",
              "      gap: 12px;\n",
              "    }\n",
              "\n",
              "    .colab-df-convert {\n",
              "      background-color: #E8F0FE;\n",
              "      border: none;\n",
              "      border-radius: 50%;\n",
              "      cursor: pointer;\n",
              "      display: none;\n",
              "      fill: #1967D2;\n",
              "      height: 32px;\n",
              "      padding: 0 0 0 0;\n",
              "      width: 32px;\n",
              "    }\n",
              "\n",
              "    .colab-df-convert:hover {\n",
              "      background-color: #E2EBFA;\n",
              "      box-shadow: 0px 1px 2px rgba(60, 64, 67, 0.3), 0px 1px 3px 1px rgba(60, 64, 67, 0.15);\n",
              "      fill: #174EA6;\n",
              "    }\n",
              "\n",
              "    [theme=dark] .colab-df-convert {\n",
              "      background-color: #3B4455;\n",
              "      fill: #D2E3FC;\n",
              "    }\n",
              "\n",
              "    [theme=dark] .colab-df-convert:hover {\n",
              "      background-color: #434B5C;\n",
              "      box-shadow: 0px 1px 3px 1px rgba(0, 0, 0, 0.15);\n",
              "      filter: drop-shadow(0px 1px 2px rgba(0, 0, 0, 0.3));\n",
              "      fill: #FFFFFF;\n",
              "    }\n",
              "  </style>\n",
              "\n",
              "      <script>\n",
              "        const buttonEl =\n",
              "          document.querySelector('#df-5a57c7cc-0a81-4fc0-89d2-a0cd4913d277 button.colab-df-convert');\n",
              "        buttonEl.style.display =\n",
              "          google.colab.kernel.accessAllowed ? 'block' : 'none';\n",
              "\n",
              "        async function convertToInteractive(key) {\n",
              "          const element = document.querySelector('#df-5a57c7cc-0a81-4fc0-89d2-a0cd4913d277');\n",
              "          const dataTable =\n",
              "            await google.colab.kernel.invokeFunction('convertToInteractive',\n",
              "                                                     [key], {});\n",
              "          if (!dataTable) return;\n",
              "\n",
              "          const docLinkHtml = 'Like what you see? Visit the ' +\n",
              "            '<a target=\"_blank\" href=https://colab.research.google.com/notebooks/data_table.ipynb>data table notebook</a>'\n",
              "            + ' to learn more about interactive tables.';\n",
              "          element.innerHTML = '';\n",
              "          dataTable['output_type'] = 'display_data';\n",
              "          await google.colab.output.renderOutput(dataTable, element);\n",
              "          const docLink = document.createElement('div');\n",
              "          docLink.innerHTML = docLinkHtml;\n",
              "          element.appendChild(docLink);\n",
              "        }\n",
              "      </script>\n",
              "    </div>\n",
              "  </div>\n",
              "  "
            ]
          },
          "metadata": {},
          "execution_count": 127
        }
      ]
    },
    {
      "cell_type": "code",
      "source": [
        "plt.figure(figsize=(14,6))\n",
        "sns.countplot(x='emp_length',data=loan02,  hue='loan_status')"
      ],
      "metadata": {
        "colab": {
          "base_uri": "https://localhost:8080/",
          "height": 406
        },
        "id": "F1bpKalXgQVV",
        "outputId": "9ff66c50-f87f-45a6-e69b-8b80dd425e5a"
      },
      "execution_count": 128,
      "outputs": [
        {
          "output_type": "execute_result",
          "data": {
            "text/plain": [
              "<matplotlib.axes._subplots.AxesSubplot at 0x7eff8f364ad0>"
            ]
          },
          "metadata": {},
          "execution_count": 128
        },
        {
          "output_type": "display_data",
          "data": {
            "text/plain": [
              "<Figure size 1008x432 with 1 Axes>"
            ],
            "image/png": "[encoded data removed]"
          },
          "metadata": {}
        }
      ]
    },
    {
      "cell_type": "markdown",
      "source": [
        "we can see that higher experience is related to higher charged off, ratio is consistence across graph, experience does not play much role\n"
      ],
      "metadata": {
        "id": "7lJn0hdZANJ9"
      }
    },
    {
      "cell_type": "code",
      "source": [
        "plt.figure(figsize=(12,6))\n",
        "sns.countplot(x='grade',data=loan02,hue='loan_status', order=sorted(loan02['grade'].unique()) );"
      ],
      "metadata": {
        "colab": {
          "base_uri": "https://localhost:8080/",
          "height": 388
        },
        "id": "4dNU1nVKhBp0",
        "outputId": "b7f8e4d9-70c9-4941-d287-091c67933dfb"
      },
      "execution_count": 129,
      "outputs": [
        {
          "output_type": "display_data",
          "data": {
            "text/plain": [
              "<Figure size 864x432 with 1 Axes>"
            ],
            "image/png": "[encoded data removed]"
          },
          "metadata": {}
        }
      ]
    },
    {
      "cell_type": "code",
      "source": [
        "plt.figure(figsize=(16,6))\n",
        "sns.countplot(x='sub_grade',data=loan02,order = sorted(loan02['sub_grade'].unique()),hue='loan_status')"
      ],
      "metadata": {
        "colab": {
          "base_uri": "https://localhost:8080/",
          "height": 406
        },
        "id": "DWqIbvGRhryR",
        "outputId": "d5e7353e-b219-4c81-f290-6acdf5fd5f9e"
      },
      "execution_count": 130,
      "outputs": [
        {
          "output_type": "execute_result",
          "data": {
            "text/plain": [
              "<matplotlib.axes._subplots.AxesSubplot at 0x7eff8f6f6e90>"
            ]
          },
          "metadata": {},
          "execution_count": 130
        },
        {
          "output_type": "display_data",
          "data": {
            "text/plain": [
              "<Figure size 1152x432 with 1 Axes>"
            ],
            "image/png": "[encoded data removed]"
          },
          "metadata": {}
        }
      ]
    },
    {
      "cell_type": "markdown",
      "source": [
        "We can see in loan grade and sub loan grade graph that, charged off loan are related \n"
      ],
      "metadata": {
        "id": "8XUKJikaAglO"
      }
    },
    {
      "cell_type": "code",
      "source": [
        "plt.figure(figsize=(14,6))\n",
        "sns.countplot(data=loan02,x='purpose', hue='loan_status' );\n",
        "plt.xticks(rotation=90);"
      ],
      "metadata": {
        "colab": {
          "base_uri": "https://localhost:8080/",
          "height": 480
        },
        "id": "QHE6UAhRkF1y",
        "outputId": "10035b75-eea2-4ce4-ac20-47f56e049c4d"
      },
      "execution_count": 131,
      "outputs": [
        {
          "output_type": "display_data",
          "data": {
            "text/plain": [
              "<Figure size 1008x432 with 1 Axes>"
            ],
            "image/png": "[encoded data removed]"
          },
          "metadata": {}
        }
      ]
    },
    {
      "cell_type": "markdown",
      "source": [
        "From Above Graph we can see that most of the charged off loan are from dept consolidation purpose"
      ],
      "metadata": {
        "id": "rcVacwdHB6eG"
      }
    },
    {
      "cell_type": "code",
      "source": [
        "sns.countplot(data=loan02,y='term', hue='loan_status' );"
      ],
      "metadata": {
        "colab": {
          "base_uri": "https://localhost:8080/",
          "height": 279
        },
        "id": "CJTy9ov1kpDO",
        "outputId": "3930e4db-70d2-421a-a3b4-71d87a020216"
      },
      "execution_count": 132,
      "outputs": [
        {
          "output_type": "display_data",
          "data": {
            "text/plain": [
              "<Figure size 432x288 with 1 Axes>"
            ],
            "image/png": "[encoded data removed]"
          },
          "metadata": {}
        }
      ]
    },
    {
      "cell_type": "markdown",
      "source": [
        "Lower the loan duration has lower chances of charged off."
      ],
      "metadata": {
        "id": "1wXqxi2bCS99"
      }
    }
  ]
}